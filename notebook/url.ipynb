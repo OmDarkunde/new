{
 "cells": [
  {
   "cell_type": "code",
   "execution_count": 1,
   "metadata": {},
   "outputs": [],
   "source": [
    "from flask import Flask,url_for,render_template,request\n",
    "from bs4 import BeautifulSoup\n",
    "import requests"
   ]
  },
  {
   "cell_type": "code",
   "execution_count": 2,
   "metadata": {},
   "outputs": [],
   "source": [
    " url = \"https://www.businesstoday.in/technology/news\""
   ]
  },
  {
   "cell_type": "code",
   "execution_count": 9,
   "metadata": {},
   "outputs": [],
   "source": [
    "req = requests.get(url)\n",
    "soup = BeautifulSoup(req.content, 'html.parser')\n",
    "outerData = soup.find_all(\"div\",class_=\"widget-listing\",limit=8)\n",
    "finalNews =\"\""
   ]
  },
  {
   "cell_type": "code",
   "execution_count": 10,
   "metadata": {},
   "outputs": [],
   "source": [
    "for data in outerData :\n",
    "        news=data.div.div.a[\"title\"]\n",
    "        finalNews += '\\u2022 '+news+'\\n'\n",
    " "
   ]
  },
  {
   "cell_type": "code",
   "execution_count": 11,
   "metadata": {},
   "outputs": [
    {
     "name": "stdout",
     "output_type": "stream",
     "text": [
      "• Can India emerge as a preferred location for laptop manufacturing?\n",
      "• Reliance Jio launches new prepaid plan with Netflix subscription; check details here\n",
      "• Snapchat's AI chatbot seemingly ‘came alive’, started posting stories to users’ profile\n",
      "• Audi Q8 e-tron launch: Check price, features, availability, other details\n",
      "• Smartwatch prices in India drop by nearly 50% since last year; here's why\n",
      "• Indian PC market struggles in 2Q23 despite quarter-over-quarter growth\n",
      "• 'Emergency alert: Severe': Why some smartphone users in India got this message from the govt\n",
      "• WhatsApp now allows users to share HD images; check how to use this new feature\n",
      "\n"
     ]
    }
   ],
   "source": [
    "print(finalNews)"
   ]
  },
  {
   "cell_type": "code",
   "execution_count": null,
   "metadata": {},
   "outputs": [],
   "source": []
  }
 ],
 "metadata": {
  "kernelspec": {
   "display_name": "venv",
   "language": "python",
   "name": "python3"
  },
  "language_info": {
   "codemirror_mode": {
    "name": "ipython",
    "version": 3
   },
   "file_extension": ".py",
   "mimetype": "text/x-python",
   "name": "python",
   "nbconvert_exporter": "python",
   "pygments_lexer": "ipython3",
   "version": "3.10.8"
  },
  "orig_nbformat": 4
 },
 "nbformat": 4,
 "nbformat_minor": 2
}
